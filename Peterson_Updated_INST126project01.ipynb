{
  "nbformat": 4,
  "nbformat_minor": 0,
  "metadata": {
    "colab": {
      "provenance": []
    },
    "kernelspec": {
      "name": "python3",
      "display_name": "Python 3"
    },
    "language_info": {
      "name": "python"
    }
  },
  "cells": [
    {
      "cell_type": "markdown",
      "source": [
        "Over the course of the semester we will be crating a gradebook program. We will do this step-by-step using the tools and concepts developed so far in the course. In some cases, code developed in earlier assignments may be used as-is in later assignments. In other cases, we may revise the code to be more efficient or effective given new tools and methods we have learned. We may add additional features or functionality as we progress through the semester. However, much of the basic logic will remain intact."
      ],
      "metadata": {
        "id": "SqreAcxC6YJm"
      }
    },
    {
      "cell_type": "markdown",
      "source": [
        "The gradebook program will collect and use data about students, courses, assignments, and grades. While real-world applications would use a database to store this data, we will use simple text files. We will develop functions to enter data directly from the console using input(). We will also develop functions to import data from text files. Near the end of the course I will show you how to import your data into a database. I will also demonstrate some additional python modules used for data analysis that you may want to look into after you finish this course."
      ],
      "metadata": {
        "id": "bo6_O5FY7nPS"
      }
    },
    {
      "cell_type": "markdown",
      "source": [
        "We will also develop code to add some functionality to our program and perform some useful analyses for both teachers and students."
      ],
      "metadata": {
        "id": "kjl2f3lc97uw"
      }
    },
    {
      "cell_type": "markdown",
      "source": [
        "Project 1: Write a program to: (1) to get user input on students, courses, assignments, and grades and put these data into lists. (2) Store the lists as text files. (3) Retrieve data from the text files and store them in lists. (4) Print the data and some simple analysis results.\n"
      ],
      "metadata": {
        "id": "xNzaxhCg--Fn"
      }
    },
    {
      "cell_type": "markdown",
      "source": [
        "1.1 Write a program to get user input on students, courses, assignments, and grades and put these data into lists. For students we want to collect the following data: [last_name, first_name, student_id, email, accomodation, notes]. For courses we want to collect the following data: [course_id, course_number, course_name, course_description, semester, credits]. For assignments we want to collect the following data: [assignment_id, course_id, assignment_title, assignment_type, points, date_assigned, date_due]. Finally, for grades we want to collect the following data: [assignment_id, student_id, date_submitted, points_earned]."
      ],
      "metadata": {
        "id": "d6c7Os1CAZfr"
      }
    },
    {
      "cell_type": "markdown",
      "source": [
        "Use conditionals to allow the user to select which 'table' they want to work on (students, courses, assignments, grades). Use functions where appropriate. Use iteration to allow users to enter multiple records for each table.\n"
      ],
      "metadata": {
        "id": "FH2C84ME9Hjc"
      }
    },
    {
      "cell_type": "markdown",
      "source": [
        "### The students table"
      ],
      "metadata": {
        "id": "_mGKhy4b3lbD"
      }
    },
    {
      "cell_type": "markdown",
      "source": [
        "What follows are programs to complete 1.1 for the students 'table' or list of lists. You will need to modify or extend this code to create the other tables listed in 1.1 above."
      ],
      "metadata": {
        "id": "q8yDyZqy3yBg"
      }
    },
    {
      "cell_type": "markdown",
      "source": [
        "Write your functions"
      ],
      "metadata": {
        "id": "n18oiaASZbn_"
      }
    },
    {
      "cell_type": "code",
      "source": [
        "# Project 1, Nolan Peterson, October 22nd\n",
        "# functions go at the top\n",
        "st_template = [\"last_name\", \"first_name\", \"student_id\", \"email\", \"accomodation\", \"notes\"]\n",
        "instudent = []\n",
        "for item in st_template:\n",
        "   instudent.append(input(item+\": \"))\n",
        "\n",
        "course_template = [\"course_id\", \"course_number\", \"course_name\", \"course_description\", \"semester\", \"credits\" ]\n",
        "incourse = []\n",
        "for item in course_template:\n",
        "  incourse.append(input(item+\" :\"))\n",
        "\n",
        "assignment_template = [\"assignment_id\",\"course_id\",\"assignment_title\",\"assignment_type\",\"points\",\"date_assigned\",\"date_due\"]\n",
        "inassignment = []\n",
        "for item in assignment_template:\n",
        "  inassignment.append(input(item+\" :\"))\n",
        "\n",
        "grade_template = [\"assignemnt_id\",\"student_id\",\"date_submitted\",\"points_earned\"]\n",
        "ingrade = []\n",
        "for item in grade_template:\n",
        "  ingrade.append(input(item+\" :\"))\n",
        "# write a function to get student data and return it as a list\n",
        "def newstudent():\n",
        "  st_template = [\"last_name\", \"first_name\", \"student_id\", \"email\", \"accomodation\", \"notes\"] #these are the field names\n",
        "  instudent = []\n",
        "  for item in st_template:\n",
        "   instudent.append(input(item+\": \"))\n",
        "\n",
        "  return instudent\n",
        "\n",
        "# write a function to get course data and return it as a list\n",
        "def newcourse():\n",
        "  course_template = [\"course_id\", \"course_number\", \"course_name\", \"course_description\", \"semester\", \"credits\" ]\n",
        "  incourse = []\n",
        "  for item in course_template:\n",
        "   incourse.append(input(item+\" :\"))\n",
        "\n",
        "  return incourse\n",
        "#write a function to get assignment data and return it as a list\n",
        "def newassignment():\n",
        "  assignment_template = [\"assignment_id\",\"course_id\",\"assignment_title\",\"assignment_type\",\"points\",\"date_assigned\",\"date_due\"]\n",
        "  inassignment = []\n",
        "  for item in assignment_template:\n",
        "   inassignment.append(input(item+\" :\"))\n",
        "\n",
        "  return inassignment\n",
        "\n",
        "\n",
        "#write a function to get grade data and return it as a list\n",
        "def newgrade():\n",
        "  grade_template = [\"assignemnt_id\",\"student_id\",\"date_submitted\",\"points_earned\"]\n",
        "  ingrade = []\n",
        "  for item in grade_template:\n",
        "   ingrade.append(input(item+\" :\"))\n",
        "\n",
        "  return ingrade"
      ],
      "metadata": {
        "id": "ozilR7kwY8ts"
      },
      "execution_count": null,
      "outputs": []
    },
    {
      "cell_type": "markdown",
      "source": [
        "Write your main execution"
      ],
      "metadata": {
        "id": "7hApckNyZiCd"
      }
    },
    {
      "cell_type": "code",
      "source": [
        "from logging import exception\n",
        "# main execution\n",
        "# write some instructions to the user using print() statements\n",
        "print(\"Welcome to the gradebook program\")\n",
        "print(\"\") # add as many print statements as you need to guide the user\n",
        "\n",
        "#initialize a students list. students will be a list of lists, where each element of the students list will be a list of elements for one particular student.\n",
        "# for example students = [[last_name, first_name...], [last_name, first_name...]]\n",
        "students = []\n",
        "# initialize lists for other tables\n",
        "courses = []\n",
        "assignments = []\n",
        "grades = []\n",
        "\n",
        "#we initialize these lists outside the loop because they will accumulate new data with each iteration\n",
        "\n",
        "# write conditional code (if, elif, else) to control the flow of the program. Use try - except where appropriate to deal with bad user input\n",
        "table = input(\"Which table would you like to work on? \")\n",
        "\n",
        "# student table loop\n",
        "if table == 'students':\n",
        "\n",
        "  # use iteration to enter multiple students\n",
        "  # since we don't know how many iterations, we use a while loop\n",
        "  # this is one way to handle the loop. you may do it differently if you wish.\n",
        "  addstudent = \"y\" # initialize our iteration variable\n",
        "  while addstudent == \"y\":\n",
        "    addstudent = input(\"Add another student? (y/n) \")\n",
        "    if addstudent not in [\"y\", \"n\"]:\n",
        "      try:\n",
        "        addstudent = input(\"y/n\")\n",
        "        raise exception\n",
        "      except:\n",
        "        print(\"invalid input\")\n",
        "    if addstudent == \"y\":\n",
        "      student = [] #initialize a list named student\n",
        "      student = newstudent() #call the newstudent function\n",
        "      students.append(student) # This adds the list of student attributes to students as a complete element.\n",
        "    elif addstudent == \"n\":\n",
        "      print(\"done\")#stops loop if type n\n",
        "elif table == \"courses\":\n",
        "  addcourse = \"y\"\n",
        "  while addcourse == \"y\":\n",
        "    addcourse = input(\"Add another course? (y/n) \")\n",
        "    if addcourse not in [\"y\", \"n\"]:\n",
        "      try:\n",
        "        addcourse = input(\"y/n\")\n",
        "        raise exception\n",
        "      except:\n",
        "        print(\"invalid input\")\n",
        "    if addcourse == \"y\":\n",
        "      course = []\n",
        "      course = newcourse()\n",
        "      courses.append(course)\n",
        "    elif addcourse == \"n\":\n",
        "      print(\"done\")\n",
        "elif table == \"assignments\":\n",
        "  addassignment = \"y\"\n",
        "  while addassignment == \"y\":\n",
        "    addassignment = input(\"Add another assignment? (y/n) \")\n",
        "    if addassignment not in [\"y\", \"n\"]:\n",
        "      try:\n",
        "        addassignment = input(\"y/n\")\n",
        "        raise exception\n",
        "      except:\n",
        "        print(\"invalid input\")\n",
        "    if addassignment == \"y\":\n",
        "      assignment = []\n",
        "      assignment = newassignment()\n",
        "      assignments.append(assignment)\n",
        "    elif addassignment == \"n\":\n",
        "      print(\"done\")\n",
        "elif table == \"grades\":\n",
        "  addgrade = \"y\"\n",
        "  while addgrade == \"y\":\n",
        "    addgrade = input(\"Add another grade? (y/n) \")\n",
        "    if addgrade not in [\"y\", \"n\"]:\n",
        "      try:\n",
        "        addgrade = input(\"y/n\")\n",
        "        raise exception\n",
        "      except:\n",
        "        print(\"invalid input\")\n",
        "    if addgrade == \"y\":\n",
        "      grade = []\n",
        "      grade = newgrade()\n",
        "      grades.append(grade)\n",
        "    elif addgrade == \"n\":\n",
        "      print(\"done\")\n",
        "else:\n",
        "  print(\"bad input\") #This makes sure you can only input the correct tables"
      ],
      "metadata": {
        "id": "PzOcu4HtZKqP",
        "colab": {
          "base_uri": "https://localhost:8080/"
        },
        "outputId": "f54692e6-aaa3-4fc9-81f8-dc88e8e51e4c"
      },
      "execution_count": null,
      "outputs": [
        {
          "output_type": "stream",
          "name": "stdout",
          "text": [
            "Welcome to the gradebook program\n",
            "\n",
            "Which table would you like to work on? n\n",
            "bad input\n"
          ]
        }
      ]
    },
    {
      "cell_type": "code",
      "source": [
        "from google.colab import drive\n",
        "drive.mount('/content/drive')"
      ],
      "metadata": {
        "id": "IwgJHwb3I-Zp"
      },
      "execution_count": null,
      "outputs": []
    },
    {
      "cell_type": "markdown",
      "source": [
        "Print your results"
      ],
      "metadata": {
        "id": "nI8K1P8OZnBK"
      }
    },
    {
      "cell_type": "code",
      "source": [
        "# use for loops to print the contents of your tables\n",
        "\n",
        "for student in students:\n",
        "  print(student)\n",
        "\n",
        "for course in courses:\n",
        "  print(course)\n",
        "\n",
        "for assignment in assignments:\n",
        "  print(assignment)\n",
        "\n",
        "for grade in grades:\n",
        "  print(grade)"
      ],
      "metadata": {
        "id": "LZ5bWjcwZqGi"
      },
      "execution_count": null,
      "outputs": []
    },
    {
      "cell_type": "markdown",
      "source": [
        "1.2 Save your data to a text file"
      ],
      "metadata": {
        "id": "uYSgbw7NaKmv"
      }
    },
    {
      "cell_type": "markdown",
      "source": [
        "What follows is an outline to write, read, and confirm our tables (lists of lists) to and from text files on your google drive. Examples of how to do this are provided in Week07_practice.ipynb."
      ],
      "metadata": {
        "id": "xhpJBbAv4e-y"
      }
    },
    {
      "cell_type": "markdown",
      "source": [
        "Write your functions"
      ],
      "metadata": {
        "id": "g7yBrmT2abmm"
      }
    },
    {
      "cell_type": "code",
      "source": [
        "# no functions at this time"
      ],
      "metadata": {
        "id": "dTwJ2nEsuZfr"
      },
      "execution_count": null,
      "outputs": []
    },
    {
      "cell_type": "markdown",
      "source": [
        "Write your main execution"
      ],
      "metadata": {
        "id": "FJWIyBEAagP6"
      }
    },
    {
      "cell_type": "code",
      "source": [
        "# write your students to a file called students_out.txt\n",
        "fname = \"/content/drive/MyDrive/Colab Notebooks/students_out.txt\"\n",
        "fhand = open(fname,\"w\")\n",
        "for student in students:\n",
        "  itemcount = len(student)\n",
        "  for item in student:\n",
        "    if itemcount >= 2:\n",
        "      fhand.write(item+\"\\t\")\n",
        "      itemcount = itemcount - 1\n",
        "    else:\n",
        "      fhand.write(item + \"\\n\")\n",
        "fhand.close()\n",
        "# write your data as tab-delimited. Follow the examples from the Week07_practice.ipynb notebook\n",
        "# repeat for your other tables\n",
        "fname = \"/content/drive/MyDrive/Colab Notebooks/courses_out.txt\"\n",
        "fhand = open(fname,\"w\")\n",
        "for course in courses:\n",
        "  itemcount = len(course)\n",
        "  for item in course:\n",
        "    if itemcount >= 2:\n",
        "      fhand.write(item+\"\\t\")\n",
        "      itemcount = itemcount - 1\n",
        "    else:\n",
        "      fhand.write(item + \"\\n\")\n",
        "fhand.close()\n",
        "\n",
        "fname = \"/content/drive/MyDrive/Colab Notebooks/assignments_out.txt\"\n",
        "fhand = open(fname,\"w\")\n",
        "for assignment in assignments:\n",
        "  itemcount = len(assignment)\n",
        "  for item in assignment:\n",
        "    if itemcount >= 2:\n",
        "      fhand.write(item+\"\\t\")\n",
        "      itemcount = itemcount - 1\n",
        "    else:\n",
        "      fhand.write(item + \"\\n\")\n",
        "fhand.close()\n",
        "\n",
        "fname = \"/content/drive/MyDrive/Colab Notebooks/grades_out.txt\"\n",
        "fhand = open(fname,\"w\")\n",
        "for grade in grades:\n",
        "  itemcount = len(grade)\n",
        "  for item in grade:\n",
        "    if itemcount >= 2:\n",
        "      fhand.write(item+\"\\t\")\n",
        "      itemcount = itemcount - 1\n",
        "    else:\n",
        "      fhand.write(item + \"\\n\")\n",
        "fhand.close()\n"
      ],
      "metadata": {
        "id": "mGloYxCKqMSf"
      },
      "execution_count": null,
      "outputs": []
    },
    {
      "cell_type": "markdown",
      "source": [
        "Print the results. Modify the Import Confirmation program from Week07_practice.ipynb to confirm that all records were written successfuly."
      ],
      "metadata": {
        "id": "bNUpAgCqaki0"
      }
    },
    {
      "cell_type": "code",
      "source": [
        "# modify the import confirmation program from Week07_practice.ipynb to confirm that all records (rows) were successfully written\n",
        "fname = \"/content/drive/MyDrive/Colab Notebooks/students.txt\"\n",
        "fhand = open(fname, \"r\")\n",
        "fcount = 0\n",
        "for line in fhand:\n",
        "  fcount = fcount + 1\n",
        "scount = 0\n",
        "for student in students:\n",
        "  scount = scount + 1\n",
        "if fcount == scount:\n",
        "  print(\"all records (rows) imported\")\n",
        "else:\n",
        "  print(\"oops\")\n",
        "fhand.close()\n",
        "\n",
        "fname = \"/content/drive/MyDrive/Colab Notebooks/courses.txt\"\n",
        "fhand = open(fname, \"r\")\n",
        "fcount = 0\n",
        "for line in fhand:\n",
        "  fcount = fcount + 1\n",
        "scount = 0\n",
        "for course in courses:\n",
        "  scount = scount + 1\n",
        "if fcount == scount:\n",
        "  print(\"all records (rows) imported\")\n",
        "else:\n",
        "  print(\"oops\")\n",
        "fhand.close()\n",
        "\n",
        "fname = \"/content/drive/MyDrive/Colab Notebooks/assignments.txt\"\n",
        "fhand = open(fname, \"r\")\n",
        "fcount = 0\n",
        "for line in fhand:\n",
        "  fcount = fcount + 1\n",
        "scount = 0\n",
        "for assignment in assignments:\n",
        "  scount = scount + 1\n",
        "if fcount == scount:\n",
        "  print(\"all records (rows) imported\")\n",
        "else:\n",
        "  print(\"oops\")\n",
        "fhand.close()\n",
        "\n",
        "fname = \"/content/drive/MyDrive/Colab Notebooks/grades.txt\"\n",
        "fhand = open(fname, \"r\")\n",
        "fcount = 0\n",
        "for line in fhand:\n",
        "  fcount = fcount + 1\n",
        "scount = 0\n",
        "for grade in grades:\n",
        "  scount = scount + 1\n",
        "if fcount == scount:\n",
        "  print(\"all records (rows) imported\")\n",
        "else:\n",
        "  print(\"oops\")\n",
        "fhand.close()"
      ],
      "metadata": {
        "id": "3sOR6m3-uRxn",
        "colab": {
          "base_uri": "https://localhost:8080/"
        },
        "outputId": "ac526b9d-4fa5-4191-ca33-a54c098e70b6"
      },
      "execution_count": 64,
      "outputs": [
        {
          "output_type": "stream",
          "name": "stdout",
          "text": [
            "all records (rows) imported\n",
            "all records (rows) imported\n",
            "oops\n",
            "oops\n"
          ]
        }
      ]
    },
    {
      "cell_type": "markdown",
      "source": [
        "1.3 Retrieve your data from a text file"
      ],
      "metadata": {
        "id": "w2NpFI-9a1EO"
      }
    },
    {
      "cell_type": "markdown",
      "source": [
        "Write your main execution follow the examples in Week07_practice.ipynb"
      ],
      "metadata": {
        "id": "55C47zHdbjRN"
      }
    },
    {
      "cell_type": "code",
      "source": [
        "# write your code to retrieve data from students.txt\n",
        "fname = \"/content/drive/MyDrive/Colab Notebooks/students.txt\"\n",
        "fhand = open(fname, \"r\")\n",
        "students = []\n",
        "for line in fhand:\n",
        "  line = line.rstrip()\n",
        "  student = line.split(\"\\t\")\n",
        "  students.append(student)\n",
        "fhand.close()\n",
        "\n",
        "# repeat for your other tables\n",
        "fname = \"/content/drive/MyDrive/Colab Notebooks/courses.txt\"\n",
        "fhand = open(fname, \"r\")\n",
        "courses = []\n",
        "for line in fhand:\n",
        "  line = line.rstrip()\n",
        "  course = line.split(\"\\t\")\n",
        "  courses.append(course)\n",
        "fhand.close()\n",
        "\n",
        "fname = \"/content/drive/MyDrive/Colab Notebooks/assignments.txt\"\n",
        "fhand = open(fname, \"r\")\n",
        "assignment = []\n",
        "for line in fhand:\n",
        "  line = line.rstrip()\n",
        "  assignment = line.split(\"\\t\")\n",
        "  assignments.append(assignment)\n",
        "fhand.close()\n",
        "\n",
        "fname = \"/content/drive/MyDrive/Colab Notebooks/grades.txt\"\n",
        "fhand = open(fname, \"r\")\n",
        "grade = []\n",
        "for line in fhand:\n",
        "  line = line.rstrip()\n",
        "  grade = line.split(\"\\t\")\n",
        "  grades.append(grade)\n",
        "fhand.close()\n"
      ],
      "metadata": {
        "id": "uBSXnCz86kEF"
      },
      "execution_count": null,
      "outputs": []
    },
    {
      "cell_type": "markdown",
      "source": [
        "### Working with dummy data"
      ],
      "metadata": {
        "id": "Q0ptJFaUbny5"
      }
    },
    {
      "cell_type": "markdown",
      "source": [
        "This project (project 1) requires you to write programs to get user input for each of the tables listed in the instructions at the top of this workbook. However, actually entering data using input() statements in python is tedious and inefficient. Since we are not working with real data, it is more efficient to use python and / or other means to create dummy data for each of the tables required for this project. For example, there are websites that will create lists of fake names and emails for this very purpose. These may be imported and quickly edited in excel or sheets, then saves as a tab-delimited text file. Dummy text files have been created for this project and may be found in this folder: https://drive.google.com/drive/folders/10tYFfXuW65Vykqlsge3KOerQ2siK3vUI?usp=sharing\n"
      ],
      "metadata": {
        "id": "rtWVBC2svlbk"
      }
    },
    {
      "cell_type": "markdown",
      "source": [
        "Copy the folder and files to your own drive for use in your project."
      ],
      "metadata": {
        "id": "aqoJAwHcx-B-"
      }
    },
    {
      "cell_type": "markdown",
      "source": [
        "1.4 Create Enrollments"
      ],
      "metadata": {
        "id": "4iRNGiixbsBw"
      }
    },
    {
      "cell_type": "markdown",
      "source": [
        "Because we are working with dummy data we need an efficient way to enroll students in courses. To do this we will need a list of all course_id's and a list of all student_id's. Use and modify the example in Week07_practice.ipynb to create your lists."
      ],
      "metadata": {
        "id": "pO_8U-tubzVS"
      }
    },
    {
      "cell_type": "code",
      "source": [
        "# create your course_id list and your student_id list here\n",
        "student_ids = []\n",
        "for student in students:\n",
        "  student_ids.append(student[2]) #its 2 because student id is the 2nd index value in student file\n",
        "print(student_ids)\n",
        "\n",
        "course_ids = []\n",
        "for course in courses:\n",
        "  course_ids.append(course[0]) #its zero because course id is the 0 index value in the courses file\n",
        "print(course_ids)"
      ],
      "metadata": {
        "id": "UamgZJWq2ZD9",
        "colab": {
          "base_uri": "https://localhost:8080/"
        },
        "outputId": "234edf61-83bb-486a-b6ec-37a039e6bb44"
      },
      "execution_count": 60,
      "outputs": [
        {
          "output_type": "stream",
          "name": "stdout",
          "text": [
            "['436622517', '854440537', '519571879', '684181404', '498719562', '701216406', '573910176', '786084065', '435353686', '506939246', '622009740', '887590492', '536906522', '442812673', '826350775', '379024917', '283291255', '653905816', '782084266', '649335568', '156556360', '515928417', '541629074', '305149106', '454464625', '169467932', '382702751', '513482822', '399588431', '155831586', '577984076', '848490382', '606119780', '396080855', '754788350', '977415079', '972961164', '779406872', '628713570', '274540403', '246881648', '988153063', '731448269', '166585493', '804417795', '194889276', '609002735', '460363237', '126665247', '491223319', '505011396', '945351487', '933289501', '219373029', '778101038', '680087130', '702854624', '768432034', '894075184', '944803023', '434052073', '465966805', '437203311', '766483437', '505275963', '168142817', '389673983', '852178558', '302334151', '644803654', '357622917', '754984587', '890256993', '242182440', '577188460', '127777764', '234307576', '370174260', '457397130', '308422548', '706886652', '976604031', '469310830', '768161120', '492186064', '514608306', '842892572', '602386876', '618989474', '269299554', '664612269', '583220390', '543680280', '825446810', '167867174', '759270867', '977458548', '790429871', '734042088', '297228007']\n",
            "['1', '2', '3', '4', '5', '6']\n"
          ]
        }
      ]
    },
    {
      "cell_type": "markdown",
      "source": [
        "Next, modify the example in Week07_practice.ipynb to randomly assign 50 students to each of the courses except INST755, which should have 10 students."
      ],
      "metadata": {
        "id": "UU1nn5rn1xsM"
      }
    },
    {
      "cell_type": "code",
      "source": [
        "# create your program to randomly enroll student in courses here\n",
        "import random\n",
        "enrollment = []\n",
        "enrollments = []\n",
        "coursenums = [\"1\",\"2\", \"3\",\"4\",\"5\", \"6\"]\n",
        "for coursenum in coursenums:\n",
        "  for i in range(50): #not sure hwo to make INST755 have only 10 students\n",
        "    student_id = random.choice(student_ids)\n",
        "    enrollment = [student_id, coursenum]\n",
        "    enrollments.append(enrollment)\n"
      ],
      "metadata": {
        "id": "nkkFvOHXb2hK"
      },
      "execution_count": 62,
      "outputs": []
    },
    {
      "cell_type": "markdown",
      "source": [
        "Next, write your enrollments to a tab-delimited text file enrollments_out.txt following the examples in Week07_practice.ipynb."
      ],
      "metadata": {
        "id": "C7_JmAplb3gR"
      }
    },
    {
      "cell_type": "code",
      "source": [
        "# write your code to save enrollments to a file here\n",
        "fname = \"/content/drive/MyDrive/Colab Notebooks/enrollments_out.txt\"\n",
        "fhand = open(fname, \"w\")\n",
        "for enrollment in enrollments:\n",
        "  itemcount = len(enrollment)\n",
        "  for item in enrollment:\n",
        "    if itemcount >= 2:\n",
        "      fhand.write(item+\"\\t\")\n",
        "      itemcount = itemcount - 1\n",
        "    else:\n",
        "      fhand.write(item + \"\\n\")\n",
        "fhand.close()"
      ],
      "metadata": {
        "id": "vUsPUDp1b6t4"
      },
      "execution_count": null,
      "outputs": []
    },
    {
      "cell_type": "markdown",
      "source": [
        "Print your results"
      ],
      "metadata": {
        "id": "TScCg8fFb7zQ"
      }
    },
    {
      "cell_type": "code",
      "source": [
        "print(enrollments)"
      ],
      "metadata": {
        "id": "QFdc0ak36MaW",
        "colab": {
          "base_uri": "https://localhost:8080/"
        },
        "outputId": "0fa847de-fa92-40d6-e643-39378a2620a3"
      },
      "execution_count": 63,
      "outputs": [
        {
          "output_type": "stream",
          "name": "stdout",
          "text": [
            "[['505011396', '1'], ['706886652', '1'], ['457397130', '1'], ['759270867', '1'], ['513482822', '1'], ['305149106', '1'], ['759270867', '1'], ['274540403', '1'], ['779406872', '1'], ['602386876', '1'], ['622009740', '1'], ['274540403', '1'], ['274540403', '1'], ['706886652', '1'], ['577984076', '1'], ['541629074', '1'], ['305149106', '1'], ['628713570', '1'], ['825446810', '1'], ['988153063', '1'], ['305149106', '1'], ['465966805', '1'], ['305149106', '1'], ['842892572', '1'], ['894075184', '1'], ['541629074', '1'], ['768432034', '1'], ['454464625', '1'], ['156556360', '1'], ['684181404', '1'], ['541629074', '1'], ['702854624', '1'], ['506939246', '1'], ['297228007', '1'], ['768161120', '1'], ['505011396', '1'], ['435353686', '1'], ['944803023', '1'], ['664612269', '1'], ['854440537', '1'], ['519571879', '1'], ['701216406', '1'], ['505011396', '1'], ['701216406', '1'], ['505011396', '1'], ['491223319', '1'], ['649335568', '1'], ['269299554', '1'], ['622009740', '1'], ['514608306', '1'], ['577188460', '2'], ['168142817', '2'], ['127777764', '2'], ['168142817', '2'], ['664612269', '2'], ['854440537', '2'], ['887590492', '2'], ['944803023', '2'], ['804417795', '2'], ['460363237', '2'], ['469310830', '2'], ['890256993', '2'], ['469310830', '2'], ['649335568', '2'], ['382702751', '2'], ['460363237', '2'], ['804417795', '2'], ['618989474', '2'], ['583220390', '2'], ['126665247', '2'], ['505011396', '2'], ['977458548', '2'], ['246881648', '2'], ['126665247', '2'], ['977458548', '2'], ['506939246', '2'], ['577984076', '2'], ['506939246', '2'], ['759270867', '2'], ['852178558', '2'], ['628713570', '2'], ['825446810', '2'], ['442812673', '2'], ['766483437', '2'], ['804417795', '2'], ['731448269', '2'], ['457397130', '2'], ['457397130', '2'], ['754984587', '2'], ['754788350', '2'], ['754788350', '2'], ['854440537', '2'], ['505011396', '2'], ['649335568', '2'], ['977415079', '2'], ['219373029', '2'], ['399588431', '2'], ['577188460', '2'], ['782084266', '2'], ['168142817', '2'], ['465966805', '3'], ['602386876', '3'], ['436622517', '3'], ['436622517', '3'], ['234307576', '3'], ['460363237', '3'], ['644803654', '3'], ['492186064', '3'], ['167867174', '3'], ['465966805', '3'], ['826350775', '3'], ['297228007', '3'], ['759270867', '3'], ['382702751', '3'], ['219373029', '3'], ['826350775', '3'], ['734042088', '3'], ['519571879', '3'], ['519571879', '3'], ['854440537', '3'], ['759270867', '3'], ['779406872', '3'], ['166585493', '3'], ['622009740', '3'], ['609002735', '3'], ['513482822', '3'], ['826350775', '3'], ['977458548', '3'], ['167867174', '3'], ['583220390', '3'], ['779406872', '3'], ['514608306', '3'], ['308422548', '3'], ['702854624', '3'], ['854440537', '3'], ['766483437', '3'], ['155831586', '3'], ['498719562', '3'], ['194889276', '3'], ['680087130', '3'], ['156556360', '3'], ['766483437', '3'], ['379024917', '3'], ['945351487', '3'], ['731448269', '3'], ['283291255', '3'], ['442812673', '3'], ['492186064', '3'], ['166585493', '3'], ['778101038', '3'], ['543680280', '4'], ['977415079', '4'], ['469310830', '4'], ['944803023', '4'], ['852178558', '4'], ['644803654', '4'], ['297228007', '4'], ['541629074', '4'], ['944803023', '4'], ['804417795', '4'], ['541629074', '4'], ['435353686', '4'], ['790429871', '4'], ['469310830', '4'], ['505011396', '4'], ['628713570', '4'], ['618989474', '4'], ['944803023', '4'], ['976604031', '4'], ['768161120', '4'], ['308422548', '4'], ['653905816', '4'], ['782084266', '4'], ['825446810', '4'], ['435353686', '4'], ['977415079', '4'], ['234307576', '4'], ['513482822', '4'], ['854440537', '4'], ['506939246', '4'], ['825446810', '4'], ['513482822', '4'], ['894075184', '4'], ['628713570', '4'], ['460363237', '4'], ['156556360', '4'], ['168142817', '4'], ['887590492', '4'], ['622009740', '4'], ['644803654', '4'], ['768432034', '4'], ['442812673', '4'], ['519571879', '4'], ['754788350', '4'], ['644803654', '4'], ['649335568', '4'], ['826350775', '4'], ['618989474', '4'], ['457397130', '4'], ['169467932', '4'], ['169467932', '5'], ['302334151', '5'], ['609002735', '5'], ['515928417', '5'], ['126665247', '5'], ['396080855', '5'], ['166585493', '5'], ['759270867', '5'], ['778101038', '5'], ['842892572', '5'], ['894075184', '5'], ['972961164', '5'], ['933289501', '5'], ['734042088', '5'], ['297228007', '5'], ['933289501', '5'], ['702854624', '5'], ['933289501', '5'], ['297228007', '5'], ['519571879', '5'], ['434052073', '5'], ['242182440', '5'], ['618989474', '5'], ['434052073', '5'], ['854440537', '5'], ['628713570', '5'], ['786084065', '5'], ['680087130', '5'], ['644803654', '5'], ['664612269', '5'], ['168142817', '5'], ['302334151', '5'], ['283291255', '5'], ['618989474', '5'], ['649335568', '5'], ['854440537', '5'], ['933289501', '5'], ['649335568', '5'], ['852178558', '5'], ['854440537', '5'], ['308422548', '5'], ['442812673', '5'], ['680087130', '5'], ['505011396', '5'], ['246881648', '5'], ['768161120', '5'], ['854440537', '5'], ['825446810', '5'], ['370174260', '5'], ['297228007', '5'], ['945351487', '6'], ['602386876', '6'], ['988153063', '6'], ['515928417', '6'], ['399588431', '6'], ['768161120', '6'], ['166585493', '6'], ['382702751', '6'], ['436622517', '6'], ['977415079', '6'], ['854440537', '6'], ['436622517', '6'], ['505011396', '6'], ['167867174', '6'], ['933289501', '6'], ['396080855', '6'], ['945351487', '6'], ['649335568', '6'], ['166585493', '6'], ['519571879', '6'], ['155831586', '6'], ['653905816', '6'], ['513482822', '6'], ['842892572', '6'], ['246881648', '6'], ['944803023', '6'], ['379024917', '6'], ['469310830', '6'], ['972961164', '6'], ['680087130', '6'], ['513482822', '6'], ['465966805', '6'], ['782084266', '6'], ['166585493', '6'], ['283291255', '6'], ['649335568', '6'], ['684181404', '6'], ['283291255', '6'], ['505275963', '6'], ['754788350', '6'], ['609002735', '6'], ['622009740', '6'], ['166585493', '6'], ['778101038', '6'], ['283291255', '6'], ['768161120', '6'], ['618989474', '6'], ['457397130', '6'], ['219373029', '6'], ['435353686', '6']]\n"
          ]
        }
      ]
    },
    {
      "cell_type": "markdown",
      "source": [
        "1.5 Print course rosters"
      ],
      "metadata": {
        "id": "CfuA2ptr6Nfj"
      }
    },
    {
      "cell_type": "markdown",
      "source": [
        "Write a program that prints a roster for each course. Allow the user to select which course to print. At the top of the roster you should print the course information (all the elements from the course record). Then print the headings from the students table, and below that the student data for each student enrolled in the course. to get things to line up on the screen, remember your special characters like \"\\t\"."
      ],
      "metadata": {
        "id": "5hlIkDd06whN"
      }
    },
    {
      "cell_type": "code",
      "source": [
        "#write your code here\n",
        "print(\"Welcome to the roster course program\")\n",
        "course_roster = input(\"Which course roster would you like to print? \")\n",
        "roster = []\n",
        "rosters = []\n",
        "def print_roster(course_id):\n",
        "  if course_id in courses:\n",
        "        course_info = courses[course_id]\n",
        "#did not understand how to do\n",
        "\n"
      ],
      "metadata": {
        "id": "SbAYjtka6rvK",
        "colab": {
          "base_uri": "https://localhost:8080/"
        },
        "outputId": "7e569311-1466-4f82-b39d-72156d9c8a21"
      },
      "execution_count": null,
      "outputs": [
        {
          "name": "stdout",
          "output_type": "stream",
          "text": [
            "Welcome to the roster course program\n",
            "Which course roster would you like to print? INST123\n"
          ]
        }
      ]
    },
    {
      "cell_type": "markdown",
      "source": [
        "Next, write your rosters to tab delimited taxt files."
      ],
      "metadata": {
        "id": "_8VUJ_hK8_Uf"
      }
    },
    {
      "cell_type": "code",
      "source": [
        "#write your code here\n",
        "fname = \"/content/drive/MyDrive/Colab Notebooks/_out.txt\"\n",
        "fhand = open(fname, \"w\")\n",
        "for roster in rosters:\n",
        "  itemcount = len(roster)\n",
        "  for item in enrollment:\n",
        "    if itemcount >= 2:\n",
        "      fhand.write(item+\"\\t\")\n",
        "      itemcount = itemcount - 1\n",
        "    else:\n",
        "      fhand.write(item + \"\\n\")\n",
        "fhand.close()"
      ],
      "metadata": {
        "id": "-Ll9giFQ9LDC"
      },
      "execution_count": null,
      "outputs": []
    },
    {
      "cell_type": "markdown",
      "source": [
        "### That's it for Project 1!"
      ],
      "metadata": {
        "id": "HUuOqWhp9N0o"
      }
    },
    {
      "cell_type": "markdown",
      "source": [
        "You have reached the end of project 1. In this project you have created several 'tables' or lists of lists in which you can store data about students, courses, assignments, grades, and enrollments. You have also written programs to write, read, and verify the contents of your files and tables. Finally, you wrote programs to generate lists of id numbers from your tables, create dummy enrollments data for each course, and print out that data as course rosters. That's a great start! In the next project we will try some different data types, modify our table designs a bit, and add some additional functionality."
      ],
      "metadata": {
        "id": "rlL13u7x9WXM"
      }
    }
  ]
}