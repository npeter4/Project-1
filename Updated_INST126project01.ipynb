{
  "nbformat": 4,
  "nbformat_minor": 0,
  "metadata": {
    "colab": {
      "provenance": []
    },
    "kernelspec": {
      "name": "python3",
      "display_name": "Python 3"
    },
    "language_info": {
      "name": "python"
    }
  },
  "cells": [
    {
      "cell_type": "markdown",
      "source": [
        "Over the course of the semester we will be crating a gradebook program. We will do this step-by-step using the tools and concepts developed so far in the course. In some cases, code developed in earlier assignments may be used as-is in later assignments. In other cases, we may revise the code to be more efficient or effective given new tools and methods we have learned. We may add additional features or functionality as we progress through the semester. However, much of the basic logic will remain intact."
      ],
      "metadata": {
        "id": "SqreAcxC6YJm"
      }
    },
    {
      "cell_type": "markdown",
      "source": [
        "The gradebook program will collect and use data about students, courses, assignments, and grades. While real-world applications would use a database to store this data, we will use simple text files. We will develop functions to enter data directly from the console using input(). We will also develop functions to import data from text files. Near the end of the course I will show you how to import your data into a database. I will also demonstrate some additional python modules used for data analysis that you may want to look into after you finish this course."
      ],
      "metadata": {
        "id": "bo6_O5FY7nPS"
      }
    },
    {
      "cell_type": "markdown",
      "source": [
        "We will also develop code to add some functionality to our program and perform some useful analyses for both teachers and students."
      ],
      "metadata": {
        "id": "kjl2f3lc97uw"
      }
    },
    {
      "cell_type": "markdown",
      "source": [
        "Project 1: Write a program to: (1) to get user input on students, courses, assignments, and grades and put these data into lists. (2) Store the lists as text files. (3) Retrieve data from the text files and store them in lists. (4) Print the data and some simple analysis results.\n"
      ],
      "metadata": {
        "id": "xNzaxhCg--Fn"
      }
    },
    {
      "cell_type": "markdown",
      "source": [
        "1.1 Write a program to get user input on students, courses, assignments, and grades and put these data into lists. For students we want to collect the following data: [last_name, first_name, student_id, email, accomodation, notes]. For courses we want to collect the following data: [course_id, course_number, course_name, course_description, semester, credits]. For assignments we want to collect the following data: [assignment_id, course_id, assignment_title, assignment_type, points, date_assigned, date_due]. Finally, for grades we want to collect the following data: [assignment_id, student_id, date_submitted, points_earned]."
      ],
      "metadata": {
        "id": "d6c7Os1CAZfr"
      }
    },
    {
      "cell_type": "markdown",
      "source": [
        "Use conditionals to allow the user to select which 'table' they want to work on (students, courses, assignments, grades). Use functions where appropriate. Use iteration to allow users to enter multiple records for each table.\n"
      ],
      "metadata": {
        "id": "FH2C84ME9Hjc"
      }
    },
    {
      "cell_type": "markdown",
      "source": [
        "### The students table"
      ],
      "metadata": {
        "id": "_mGKhy4b3lbD"
      }
    },
    {
      "cell_type": "markdown",
      "source": [
        "What follows are programs to complete 1.1 for the students 'table' or list of lists. You will need to modify or extend this code to create the other tables listed in 1.1 above."
      ],
      "metadata": {
        "id": "q8yDyZqy3yBg"
      }
    },
    {
      "cell_type": "markdown",
      "source": [
        "Write your functions"
      ],
      "metadata": {
        "id": "n18oiaASZbn_"
      }
    },
    {
      "cell_type": "code",
      "source": [
        "# replace this comment with a comment that includes a title, your name, and the date completed\n",
        "# functions go at the top\n",
        "\n",
        "# write a function to get student data and return it as a list\n",
        "def newstudent():\n",
        "  st_template = [\"last_name\", \"first_name\", \"student_id\", \"email\", \"accomodation\", \"notes\"] #these are the field names\n",
        "  instudent = []\n",
        "  # add additional code here. how might you handle this task to ensure you get all the elements in the right order? (a loop, maybe?)\n",
        "  for item in st_template:\n",
        "    instudent.append(input(item+\": \"))\n",
        "\n",
        "  return instudent\n",
        "\n",
        "# write a function to get course data and return it as a list\n",
        "def newcourse():\n",
        "  pass\n",
        "\n",
        "#write a function to get assignment data and return it as a list\n",
        "\n",
        "#write a function to get grade data and return it as a list"
      ],
      "metadata": {
        "id": "ozilR7kwY8ts"
      },
      "execution_count": null,
      "outputs": []
    },
    {
      "cell_type": "markdown",
      "source": [
        "Write your main execution"
      ],
      "metadata": {
        "id": "7hApckNyZiCd"
      }
    },
    {
      "cell_type": "code",
      "source": [
        "# main execution\n",
        "# write some instructions to the user using print() statements\n",
        "print(\"Welcome to the gradebook program\")\n",
        "print() # add as many print statements as you need to guide the user\n",
        "\n",
        "#initialize a students list. students will be a list of lists, where each element of the students list will be a list of elements for one particular student.\n",
        "# for example students = [[last_name, first_name...], [last_name, first_name...]]\n",
        "students = []\n",
        "# initialize lists for other tables\n",
        "#we initialize these lists outside the loop because they will accumulate new data with each iteration\n",
        "\n",
        "# write conditional code (if, elif, else) to control the flow of the program. Use try - except where appropriate to deal with bad user input\n",
        "table = input(\"Which table would you like to work on? \")\n",
        "\n",
        "# student table loop\n",
        "if table == 'students':\n",
        "\n",
        "  # use iteration to enter multiple students\n",
        "  # since we don't know how many iterations, we use a while loop\n",
        "  # this is one way to handle the loop. you may do it differently if you wish.\n",
        "  addstudent = \"y\" # initialize our iteration variable\n",
        "  while addstudent == \"y\":\n",
        "    addstudent = input(\"Add another student? (y/n) \")\n",
        "    if addstudent not in [\"y\", \"n\"]: #check for a valid response\n",
        "      pass # change this code to deal with a bad entry\n",
        "    elif addstudent == \"y\":\n",
        "      student = [] #initialize a list named student\n",
        "      student = newstudent() #call the newstudent function\n",
        "      students.append(student) # This adds the list of student attributes to students as a complete element.\n",
        "    else:\n",
        "      pass # change this code to handle the \"n\" case\n",
        "elif table == \"courses\":\n",
        "  pass #change this to add new courses just like you did with students\n",
        "  #add additional elif statements for \"assignments\" and \"grades\"\n",
        "else:\n",
        "  pass # modify this code as necessary"
      ],
      "metadata": {
        "id": "PzOcu4HtZKqP"
      },
      "execution_count": null,
      "outputs": []
    },
    {
      "cell_type": "markdown",
      "source": [
        "Print your results"
      ],
      "metadata": {
        "id": "nI8K1P8OZnBK"
      }
    },
    {
      "cell_type": "code",
      "source": [
        "# use for loops to print the contents of your tables\n",
        "\n",
        "for student in students:\n",
        "  print(student)"
      ],
      "metadata": {
        "id": "LZ5bWjcwZqGi"
      },
      "execution_count": null,
      "outputs": []
    },
    {
      "cell_type": "markdown",
      "source": [
        "1.2 Save your data to a text file"
      ],
      "metadata": {
        "id": "uYSgbw7NaKmv"
      }
    },
    {
      "cell_type": "markdown",
      "source": [
        "What follows is an outline to write, read, and confirm our tables (lists of lists) to and from text files on your google drive. Examples of how to do this are provided in Week07_practice.ipynb."
      ],
      "metadata": {
        "id": "xhpJBbAv4e-y"
      }
    },
    {
      "cell_type": "markdown",
      "source": [
        "Write your functions"
      ],
      "metadata": {
        "id": "g7yBrmT2abmm"
      }
    },
    {
      "cell_type": "code",
      "source": [
        "# no functions at this time"
      ],
      "metadata": {
        "id": "dTwJ2nEsuZfr"
      },
      "execution_count": null,
      "outputs": []
    },
    {
      "cell_type": "markdown",
      "source": [
        "Write your main execution"
      ],
      "metadata": {
        "id": "FJWIyBEAagP6"
      }
    },
    {
      "cell_type": "code",
      "source": [
        "# write your students to a file called students_out.txt\n",
        "# write your data as tab-delimited. Follow the examples from the Week07_practice.ipynb notebook\n",
        "# repeat for your other tables\n"
      ],
      "metadata": {
        "id": "mGloYxCKqMSf"
      },
      "execution_count": null,
      "outputs": []
    },
    {
      "cell_type": "markdown",
      "source": [
        "Print the results. Modify the Import Confirmation program from Week07_practice.ipynb to confirm that all records were written successfuly."
      ],
      "metadata": {
        "id": "bNUpAgCqaki0"
      }
    },
    {
      "cell_type": "code",
      "source": [
        "# modify the import confirmation program from Week07_practice.ipynb to confirm that all records (rows) were successfully written\n"
      ],
      "metadata": {
        "id": "3sOR6m3-uRxn"
      },
      "execution_count": null,
      "outputs": []
    },
    {
      "cell_type": "markdown",
      "source": [
        "1.3 Retrieve your data from a text file"
      ],
      "metadata": {
        "id": "w2NpFI-9a1EO"
      }
    },
    {
      "cell_type": "markdown",
      "source": [
        "Write your main execution follow the examples in Week07_practice.ipynb"
      ],
      "metadata": {
        "id": "55C47zHdbjRN"
      }
    },
    {
      "cell_type": "code",
      "source": [
        "# write your code to retrieve data from students.txt\n",
        "# repeat for your other tables"
      ],
      "metadata": {
        "id": "uBSXnCz86kEF"
      },
      "execution_count": null,
      "outputs": []
    },
    {
      "cell_type": "markdown",
      "source": [
        "### Working with dummy data"
      ],
      "metadata": {
        "id": "Q0ptJFaUbny5"
      }
    },
    {
      "cell_type": "markdown",
      "source": [
        "This project (project 1) requires you to write programs to get user input for each of the tables listed in the instructions at the top of this workbook. However, actually entering data using input() statements in python is tedious and inefficient. Since we are not working with real data, it is more efficient to use python and / or other means to create dummy data for each of the tables required for this project. For example, there are websites that will create lists of fake names and emails for this very purpose. These may be imported and quickly edited in excel or sheets, then saves as a tab-delimited text file. Dummy text files have been created for this project and may be found in this folder: https://drive.google.com/drive/folders/10tYFfXuW65Vykqlsge3KOerQ2siK3vUI?usp=sharing\n"
      ],
      "metadata": {
        "id": "rtWVBC2svlbk"
      }
    },
    {
      "cell_type": "markdown",
      "source": [
        "Copy the folder and files to your own drive for use in your project."
      ],
      "metadata": {
        "id": "aqoJAwHcx-B-"
      }
    },
    {
      "cell_type": "markdown",
      "source": [
        "1.4 Create Enrollments"
      ],
      "metadata": {
        "id": "4iRNGiixbsBw"
      }
    },
    {
      "cell_type": "markdown",
      "source": [
        "Because we are working with dummy data we need an efficient way to enroll students in courses. To do this we will need a list of all course_id's and a list of all student_id's. Use and modify the example in Week07_practice.ipynb to create your lists."
      ],
      "metadata": {
        "id": "pO_8U-tubzVS"
      }
    },
    {
      "cell_type": "code",
      "source": [
        "# create your course_id list and your student_id list here"
      ],
      "metadata": {
        "id": "UamgZJWq2ZD9"
      },
      "execution_count": null,
      "outputs": []
    },
    {
      "cell_type": "markdown",
      "source": [
        "Next, modify the example in Week07_practice.ipynb to randomly assign 50 students to each of the courses except INST755, which should have 10 students."
      ],
      "metadata": {
        "id": "UU1nn5rn1xsM"
      }
    },
    {
      "cell_type": "code",
      "source": [
        "# create your program to randomly enroll student in courses here"
      ],
      "metadata": {
        "id": "nkkFvOHXb2hK"
      },
      "execution_count": null,
      "outputs": []
    },
    {
      "cell_type": "markdown",
      "source": [
        "Next, write your enrollments to a tab-delimited text file enrollments_out.txt following the examples in Week07_practice.ipynb."
      ],
      "metadata": {
        "id": "C7_JmAplb3gR"
      }
    },
    {
      "cell_type": "code",
      "source": [
        "# write your code to save enrollments to a file here"
      ],
      "metadata": {
        "id": "vUsPUDp1b6t4"
      },
      "execution_count": null,
      "outputs": []
    },
    {
      "cell_type": "markdown",
      "source": [
        "Print your results"
      ],
      "metadata": {
        "id": "TScCg8fFb7zQ"
      }
    },
    {
      "cell_type": "code",
      "source": [],
      "metadata": {
        "id": "QFdc0ak36MaW"
      },
      "execution_count": null,
      "outputs": []
    },
    {
      "cell_type": "markdown",
      "source": [
        "1.5 Print course rosters"
      ],
      "metadata": {
        "id": "CfuA2ptr6Nfj"
      }
    },
    {
      "cell_type": "markdown",
      "source": [
        "Write a program that prints a roster for each course. Allow the user to select which course to print. At the top of the roster you should print the course information (all the elements from the course record). Then print the headings from the students table, and below that the student data for each student enrolled in the course. to get things to line up on the screen, remember your special characters like \"\\t\"."
      ],
      "metadata": {
        "id": "5hlIkDd06whN"
      }
    },
    {
      "cell_type": "code",
      "source": [
        "#write your code here"
      ],
      "metadata": {
        "id": "SbAYjtka6rvK"
      },
      "execution_count": null,
      "outputs": []
    },
    {
      "cell_type": "markdown",
      "source": [
        "Next, write your rosters to tab delimited taxt files."
      ],
      "metadata": {
        "id": "_8VUJ_hK8_Uf"
      }
    },
    {
      "cell_type": "code",
      "source": [
        "#write your code here"
      ],
      "metadata": {
        "id": "-Ll9giFQ9LDC"
      },
      "execution_count": null,
      "outputs": []
    },
    {
      "cell_type": "markdown",
      "source": [
        "### That's it for Project 1!"
      ],
      "metadata": {
        "id": "HUuOqWhp9N0o"
      }
    },
    {
      "cell_type": "markdown",
      "source": [
        "You have reached the end of project 1. In this project you have created several 'tables' or lists of lists in which you can store data about students, courses, assignments, grades, and enrollments. You have also written programs to write, read, and verify the contents of your files and tables. Finally, you wrote programs to generate lists of id numbers from your tables, create dummy enrollments data for each course, and print out that data as course rosters. That's a great start! In the next project we will try some different data types, modify our table designs a bit, and add some additional functionality."
      ],
      "metadata": {
        "id": "rlL13u7x9WXM"
      }
    }
  ]
}